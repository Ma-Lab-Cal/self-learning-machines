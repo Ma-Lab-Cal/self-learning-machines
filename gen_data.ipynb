{
 "cells": [
  {
   "attachments": {},
   "cell_type": "markdown",
   "metadata": {},
   "source": [
    "## Generate graph data\n",
    "Notebook consists of 2 stages:\n",
    "1. Generate examples of random graphs and save to file\n",
    "2. Generate features from the graphs and save features to a file"
   ]
  },
  {
   "cell_type": "code",
   "execution_count": 1,
   "metadata": {},
   "outputs": [],
   "source": [
    "%reload_ext autoreload\n",
    "%autoreload 2\n",
    "\n",
    "import networkx as nx\n",
    "import numpy as np\n",
    "from spice_net import *\n",
    "from helpers import *\n",
    "import matplotlib.pyplot as plt\n",
    "from analytic import *"
   ]
  },
  {
   "attachments": {},
   "cell_type": "markdown",
   "metadata": {},
   "source": [
    "### 1. Generate Random Graphs"
   ]
  },
  {
   "cell_type": "code",
   "execution_count": 2,
   "metadata": {},
   "outputs": [],
   "source": [
    "# Fixed parameters\n",
    "nodes = 9\n",
    "edge_prob = .5\n",
    "\n",
    "in_nodes = 2\n",
    "out_nodes = 1\n",
    "\n",
    "num_trials = 30000\n",
    "\n",
    "boundary_tol = 0.15"
   ]
  },
  {
   "cell_type": "code",
   "execution_count": 3,
   "metadata": {},
   "outputs": [],
   "source": [
    "# Generate the uniform inputs \n",
    "num_pts = 40\n",
    "lh = 2\n",
    "\n",
    "xs = np.linspace(-lh, lh, num_pts)[:, None]\n",
    "xs_bias = np.hstack((xs, np.ones(xs.shape)))"
   ]
  },
  {
   "cell_type": "code",
   "execution_count": 4,
   "metadata": {},
   "outputs": [],
   "source": [
    "slope_vals = []\n",
    "intercept_vals = []\n",
    "\n",
    "inside_nets = []\n",
    "on_nets = []\n",
    "outside_nets = []\n",
    "\n",
    "coeff = np.linalg.inv(xs_bias.T @ xs_bias) @ xs_bias.T"
   ]
  },
  {
   "cell_type": "code",
   "execution_count": 5,
   "metadata": {},
   "outputs": [],
   "source": [
    "X = []\n",
    "y = []"
   ]
  },
  {
   "cell_type": "code",
   "execution_count": 6,
   "metadata": {},
   "outputs": [],
   "source": [
    "np.random.seed(0)\n",
    "for _ in range(num_trials):\n",
    "    con_graph = nx.erdos_renyi_graph(n=nodes, p=edge_prob, directed=False)\n",
    "    for i, (u, v) in enumerate(con_graph.edges()):\n",
    "        con_graph[u][v]['type'] = 'resistor'\n",
    "\n",
    "    node_cfg = np.random.permutation([1]*in_nodes + [-1]*out_nodes + [0]*(nodes-in_nodes-out_nodes-1))\n",
    "    node_cfg = np.random.choice(nodes, size=(in_nodes + out_nodes, 2), replace=False)\n",
    "    node_cfg = (node_cfg[:in_nodes], node_cfg[in_nodes:])\n",
    "\n",
    "    out_plus = node_cfg[1][0][0]\n",
    "    out_minus = node_cfg[1][0][1]\n",
    "\n",
    "    weights = np.abs(np.random.normal(1, 0.5, size=con_graph.number_of_edges()))\n",
    "\n",
    "    for i, (u, v) in enumerate(con_graph.edges()):\n",
    "        con_graph[u][v]['weight'] = weights[i]\n",
    "\n",
    "    net = LinearNetwork('test', con_graph, node_cfg)\n",
    "\n",
    "    A = gen_A(net, net.inputs)\n",
    "    sol = solve(A, xs_bias.T)\n",
    "    sol_plus = sol[out_plus-1] if out_plus > 0 else np.zeros(sol[out_plus].shape)\n",
    "    sol_minus = sol[out_minus-1] if out_minus > 0 else np.zeros(sol[out_minus].shape)\n",
    "    preds = sol_plus - sol_minus\n",
    "\n",
    "    # preds = net.predict(xs_bias).squeeze()\n",
    "\n",
    "    slope, intercept = coeff @ preds\n",
    "\n",
    "    if abs(slope) + abs(intercept) > 1 + boundary_tol:\n",
    "        outside_nets.append((net.copy('special'), slope, intercept))\n",
    "    elif abs(slope) + abs(intercept) > 1:\n",
    "        on_nets.append((net.copy('special'), slope, intercept))\n",
    "    elif len(inside_nets) < 10:\n",
    "        inside_nets.append((net.copy('nonspecial'), slope, intercept))\n",
    "\n",
    "    slope_vals.append(slope)\n",
    "    intercept_vals.append(intercept)\n",
    "\n",
    "    sources = net.inputs + net.outputs\n",
    "\n",
    "    # G_mat = nx.to_numpy_array(con_graph)\n",
    "    \n",
    "    # inputs_arr = np.zeros((2, nodes))\n",
    "    # inputs_arr[:, -len(net.inputs)] = np.array(list(map(lambda a: list(map(int, a.node_names)), net.inputs))).T\n",
    "\n",
    "    # outputs_arr = np.zeros((2, nodes))\n",
    "    # outputs_arr[:, -len(net.outputs)] = np.array(list(map(lambda a: list(map(int, a.node_names)), net.outputs))).T\n",
    "\n",
    "    X.append(A)\n",
    "    y.append([slope, intercept])"
   ]
  },
  {
   "cell_type": "code",
   "execution_count": 7,
   "metadata": {},
   "outputs": [
    {
     "name": "stdout",
     "output_type": "stream",
     "text": [
      "(30000, 10, 10) (30000, 2)\n"
     ]
    }
   ],
   "source": [
    "X = np.array(X)\n",
    "y = np.array(y)\n",
    "print(X.shape, y.shape)"
   ]
  },
  {
   "cell_type": "code",
   "execution_count": 8,
   "metadata": {},
   "outputs": [],
   "source": [
    "np.savez('data/slope_intercept.npz', X=X, y=y)"
   ]
  },
  {
   "cell_type": "code",
   "execution_count": null,
   "metadata": {},
   "outputs": [],
   "source": []
  }
 ],
 "metadata": {
  "kernelspec": {
   "display_name": "circuit_sim",
   "language": "python",
   "name": "python3"
  },
  "language_info": {
   "codemirror_mode": {
    "name": "ipython",
    "version": 3
   },
   "file_extension": ".py",
   "mimetype": "text/x-python",
   "name": "python",
   "nbconvert_exporter": "python",
   "pygments_lexer": "ipython3",
   "version": "3.10.6"
  },
  "orig_nbformat": 4,
  "vscode": {
   "interpreter": {
    "hash": "b811e8891fead4dcff43daa60840d3aad128e33d8d0bca8c2c5a932e95776058"
   }
  }
 },
 "nbformat": 4,
 "nbformat_minor": 2
}
