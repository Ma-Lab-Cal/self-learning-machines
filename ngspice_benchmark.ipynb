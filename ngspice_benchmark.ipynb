{
 "cells": [
  {
   "attachments": {},
   "cell_type": "markdown",
   "metadata": {},
   "source": [
    "#### Benchmarks to motivate switching to PySpice's NGSPICE interface over LTSPICE command line interface"
   ]
  },
  {
   "cell_type": "code",
   "execution_count": 2,
   "metadata": {},
   "outputs": [],
   "source": [
    "import numpy as np\n",
    "\n",
    "import PySpice\n",
    "import PySpice.Logging.Logging as Logging\n",
    "from PySpice.Spice.Netlist import Circuit\n",
    "from PySpice.Unit import *\n",
    "\n",
    "from os import system\n",
    "import ltspice"
   ]
  },
  {
   "cell_type": "code",
   "execution_count": 12,
   "metadata": {},
   "outputs": [],
   "source": [
    "def sim_ltspice(n):\n",
    "    circuit = Circuit('test')\n",
    "\n",
    "    circuit.V(1, 1, 0, f'{{V1}}')\n",
    "    circuit.R(1, 2, 1, 5)\n",
    "    circuit.R(2, 2, 0, 1)\n",
    "\n",
    "\n",
    "    xs = np.random.randn(n)\n",
    "    ys = np.empty(n)\n",
    "\n",
    "    for i, x in enumerate(xs):\n",
    "        circuit.parameter('V1', x)\n",
    "        simulator = circuit.simulator()\n",
    "        analysis = simulator.operating_point()\n",
    "        ys[i] = analysis['2'][0]\n",
    "\n",
    "        netlist = str(circuit)\n",
    "\n",
    "        with open(f'{circuit.title}.cir', 'wt') as f:\n",
    "            f.write(netlist + '.op\\n')\n",
    "\n",
    "        system(f'/Applications/LTspice.app/Contents/MacOS/LTspice -b {circuit.title}.cir')\n",
    "        \n",
    "        l = ltspice.Ltspice(f'{circuit.title}.raw')\n",
    "        l.parse()\n",
    "        ys[i] = l.get_data('V(2)')[0]\n",
    "\n",
    "    return ys\n",
    "\n",
    "\n",
    "def sim_loop(n):\n",
    "    circuit = Circuit('test')\n",
    "\n",
    "    circuit.V(1, 1, 0, f'{{V1}}')\n",
    "    circuit.R(1, 2, 1, 5)\n",
    "    circuit.R(2, 2, 0, 1)\n",
    "\n",
    "    xs = np.random.randn(n)\n",
    "    ys = np.empty(n)\n",
    "\n",
    "    for i, x in enumerate(xs):\n",
    "        circuit.parameter('V1', x)\n",
    "        simulator = circuit.simulator()\n",
    "        analysis = simulator.operating_point()\n",
    "        ys[i] = analysis['2'][0]\n",
    "\n",
    "    return ys\n",
    "\n",
    "def sim_sweep(n):\n",
    "    circuit = Circuit('test')\n",
    "\n",
    "    circuit.V('dummy', 'dummy', 0, -1)\n",
    "    \n",
    "    circuit.R(1, 2, 1, 5)\n",
    "    circuit.R(2, 2, 0, 1)\n",
    "\n",
    "    xs = np.random.randn(n)\n",
    "    arr = [str(val) for pair in zip(range(1, len(xs)+1), xs) for val in pair]\n",
    "    ss = ', '.join(arr)\n",
    "    s = f'pwl(V(dummy), {ss})' if n > 1 else xs[0]\n",
    "    circuit.B(1, 1, 0, v=s)\n",
    "\n",
    "    simulator = circuit.simulator()\n",
    "    analysis = simulator.dc(Vdummy=slice(1, n, 1))\n",
    "\n",
    "    return analysis['2']\n"
   ]
  },
  {
   "attachments": {},
   "cell_type": "markdown",
   "metadata": {},
   "source": [
    "##### Time benchmarks\n",
    "Clearly, the NGSpice implementations are much faster (since they don't have to write to a file). It's much faster still to treat multiple evaluations on a single (fixed) circuit as parameter (voltage) sweeps over time and extract the results as such"
   ]
  },
  {
   "cell_type": "code",
   "execution_count": 126,
   "metadata": {},
   "outputs": [
    {
     "name": "stdout",
     "output_type": "stream",
     "text": [
      "2.97 s ± 68.5 ms per loop (mean ± std. dev. of 7 runs, 1 loop each)\n"
     ]
    }
   ],
   "source": [
    "%timeit sim_ltspice(100)"
   ]
  },
  {
   "cell_type": "code",
   "execution_count": 8,
   "metadata": {},
   "outputs": [
    {
     "name": "stdout",
     "output_type": "stream",
     "text": [
      "624 µs ± 44.6 µs per loop (mean ± std. dev. of 7 runs, 1,000 loops each)\n"
     ]
    }
   ],
   "source": [
    "%timeit sim_loop(100)"
   ]
  },
  {
   "cell_type": "code",
   "execution_count": 9,
   "metadata": {},
   "outputs": [
    {
     "name": "stdout",
     "output_type": "stream",
     "text": [
      "902 µs ± 37.2 µs per loop (mean ± std. dev. of 7 runs, 1,000 loops each)\n"
     ]
    }
   ],
   "source": [
    "%timeit sim_sweep(100)"
   ]
  },
  {
   "attachments": {},
   "cell_type": "markdown",
   "metadata": {},
   "source": [
    "We can see that all 3 methods are equivalent and yield correct results"
   ]
  },
  {
   "cell_type": "code",
   "execution_count": 125,
   "metadata": {},
   "outputs": [
    {
     "data": {
      "text/plain": [
       "array([ 0.03753552,  0.07515843,  0.02449396, -0.2364496 , -0.13480079,\n",
       "       -0.01133541,  0.338294  , -0.18403737, -0.29598153,  0.28983209,\n",
       "        0.29039168,  0.29880744,  0.0798609 , -0.03220775, -0.14470004,\n",
       "       -0.22870971, -0.12719533, -0.35808623, -0.09261359,  0.00710801,\n",
       "       -0.03420829,  0.28246838, -0.14557856,  0.00908494,  0.03511909,\n",
       "        0.07597739, -0.09303888,  0.0851147 ,  0.02474598,  0.14610714,\n",
       "       -0.0972068 , -0.02091046,  0.27078012,  0.16743305,  0.25520605,\n",
       "        0.08348022, -0.02364058, -0.13090456,  0.06406467,  0.0687949 ,\n",
       "        0.16362356,  0.10467349,  0.04359397, -0.07487158,  0.22197866,\n",
       "        0.06946041, -0.07002871,  0.0234651 ,  0.24606387,  0.06372093,\n",
       "       -0.23425278,  0.06892099, -0.31014207, -0.05421357,  0.06740066,\n",
       "        0.13865423, -0.19310217, -0.12016212, -0.14590812,  0.19561708,\n",
       "        0.31243864, -0.00499533,  0.03768062,  0.00767007, -0.1543553 ,\n",
       "        0.17335002,  0.34307778, -0.37501946,  0.15394862, -0.01489633,\n",
       "       -0.04411152,  0.21194944,  0.0386722 , -0.09794357,  0.06066968,\n",
       "       -0.11141109,  0.26385802, -0.08164966, -0.02857271,  0.26106191,\n",
       "       -0.12336267, -0.24519087,  0.27712724,  0.05239026,  0.23528121,\n",
       "        0.00536106, -0.19659741,  0.15101716, -0.03765646,  0.16072996,\n",
       "        0.13881074, -0.02414676, -0.06762395, -0.00888113,  0.11310305,\n",
       "       -0.26931503, -0.13596143,  0.05291996,  0.26228771, -0.16379903])"
      ]
     },
     "execution_count": 125,
     "metadata": {},
     "output_type": "execute_result"
    }
   ],
   "source": [
    "sim_ltspice(100)"
   ]
  },
  {
   "cell_type": "code",
   "execution_count": 24,
   "metadata": {},
   "outputs": [
    {
     "data": {
      "text/plain": [
       "array([ 0.01123329,  0.06062443, -0.09089946, -0.15238242,  0.08888068,\n",
       "       -0.41207474, -0.14006066,  0.09362176, -0.03268056,  0.11438461,\n",
       "        0.00701414, -0.04649972, -0.16279291,  0.09678377, -0.15019855,\n",
       "        0.19665815, -0.08758584, -0.09212711,  0.01676941, -0.13284763,\n",
       "       -0.10181434, -0.25951984, -0.01772411,  0.18525823,  0.08985063,\n",
       "       -0.17553955,  0.1661906 , -0.02867808, -0.01711069, -0.07482609,\n",
       "       -0.13034819,  0.25476729, -0.09541836, -0.1898226 , -0.09891867,\n",
       "        0.01942286,  0.03253694, -0.08163798,  0.12893064, -0.13297498,\n",
       "        0.05205943, -0.23653128, -0.19320342, -0.13068765, -0.01068468,\n",
       "        0.29793971,  0.46016888,  0.10050677,  0.12837404,  0.09822345,\n",
       "        0.30206613,  0.07689809, -0.05319078, -0.04039697,  0.17711811,\n",
       "       -0.28438093, -0.02225215,  0.12328244, -0.06927709,  0.11035077,\n",
       "        0.27362333, -0.0372224 , -0.23744233,  0.00239705,  0.02321959,\n",
       "       -0.00694601, -0.1337243 ,  0.07607184,  0.12677499,  0.04182563,\n",
       "        0.13052366,  0.0254804 ,  0.02314404, -0.00289026, -0.06970888,\n",
       "        0.25948734, -0.11036383, -0.10133444,  0.26341019, -0.19751042,\n",
       "        0.21127387, -0.37496704,  0.16084334, -0.0591901 ,  0.14357595,\n",
       "        0.43270203, -0.09249595,  0.22029018, -0.01531406,  0.21885151,\n",
       "        0.18988933,  0.0378886 ,  0.280052  ,  0.19482966,  0.02854392,\n",
       "        0.13940838,  0.12497051, -0.06757473, -0.23495913,  0.23211109])"
      ]
     },
     "execution_count": 24,
     "metadata": {},
     "output_type": "execute_result"
    }
   ],
   "source": [
    "sim_loop(100)"
   ]
  },
  {
   "cell_type": "code",
   "execution_count": 23,
   "metadata": {},
   "outputs": [
    {
     "data": {
      "text/plain": [
       "WaveForm  [-0.38747401 -0.28427913 -0.3047998   0.02029898 -0.09624381 -0.02996156\n",
       " -0.0508552  -0.15897451  0.12519814  0.03000011 -0.21740534 -0.36832264\n",
       " -0.22292482 -0.04414901 -0.24765621 -0.26914994  0.12883063 -0.05363416\n",
       " -0.34663943 -0.48129173 -0.1483392  -0.40408859  0.4407186  -0.13097377\n",
       "  0.06304524  0.06613157 -0.15916389 -0.20969341 -0.07633052  0.22231879\n",
       " -0.18108803  0.22742817 -0.0552443  -0.0172125  -0.05115474  0.17951528\n",
       " -0.0340121  -0.50269107  0.03650035 -0.03261185 -0.16098776  0.00857163\n",
       "  0.47276317 -0.35840804  0.09073933 -0.18626195  0.03961813  0.13399191\n",
       " -0.06123191 -0.12441521 -0.14214479 -0.15009528  0.1379168  -0.12201175\n",
       "  0.4299848   0.26913507  0.39548844  0.11474079  0.00061503 -0.26342002\n",
       " -0.03734797  0.13927093  0.38633542  0.2320957   0.09794226 -0.54838657\n",
       "  0.05017008 -0.00801883 -0.45191579 -0.14566971 -0.07846605 -0.04246098\n",
       "  0.09830568 -0.24703759  0.18770736 -0.21835167  0.11303345  0.01723933\n",
       " -0.00913985 -0.04298726  0.13563887  0.14220672 -0.28649319  0.22348548\n",
       " -0.06900052 -0.19161483 -0.16035688 -0.17735904 -0.44551549  0.14263548\n",
       " -0.13378333 -0.02337792  0.57767689 -0.05070028  0.12754805  0.03056071\n",
       "  0.12871667  0.32098269  0.10126016  0.40819159]@V"
      ]
     },
     "execution_count": 23,
     "metadata": {},
     "output_type": "execute_result"
    }
   ],
   "source": [
    "sim_sweep(100)"
   ]
  },
  {
   "cell_type": "code",
   "execution_count": null,
   "metadata": {},
   "outputs": [],
   "source": []
  }
 ],
 "metadata": {
  "kernelspec": {
   "display_name": "circuit_sim",
   "language": "python",
   "name": "python3"
  },
  "language_info": {
   "codemirror_mode": {
    "name": "ipython",
    "version": 3
   },
   "file_extension": ".py",
   "mimetype": "text/x-python",
   "name": "python",
   "nbconvert_exporter": "python",
   "pygments_lexer": "ipython3",
   "version": "3.10.6 | packaged by conda-forge | (main, Aug 22 2022, 20:38:29) [Clang 13.0.1 ]"
  },
  "orig_nbformat": 4,
  "vscode": {
   "interpreter": {
    "hash": "b811e8891fead4dcff43daa60840d3aad128e33d8d0bca8c2c5a932e95776058"
   }
  }
 },
 "nbformat": 4,
 "nbformat_minor": 2
}
