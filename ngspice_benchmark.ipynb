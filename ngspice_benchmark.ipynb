{
 "cells": [
  {
   "attachments": {},
   "cell_type": "markdown",
   "metadata": {},
   "source": [
    "#### Benchmarks to motivate switching to PySpice's NGSPICE interface over LTSPICE command line interface"
   ]
  },
  {
   "cell_type": "code",
   "execution_count": 101,
   "metadata": {},
   "outputs": [],
   "source": [
    "import numpy as np\n",
    "\n",
    "import PySpice\n",
    "import PySpice.Logging.Logging as Logging\n",
    "from PySpice.Spice.Netlist import Circuit\n",
    "from PySpice.Unit import *\n",
    "\n",
    "from os import system\n",
    "import ltspice"
   ]
  },
  {
   "cell_type": "code",
   "execution_count": 124,
   "metadata": {},
   "outputs": [],
   "source": [
    "def sim_ltspice(n):\n",
    "    circuit = Circuit('test')\n",
    "\n",
    "    circuit.V(1, 1, 0, f'{{V1}}')\n",
    "    circuit.R(1, 2, 1, 5)\n",
    "    circuit.R(2, 2, 0, 1)\n",
    "\n",
    "\n",
    "    xs = np.random.randn(n)\n",
    "    ys = np.empty(n)\n",
    "\n",
    "    for i, x in enumerate(xs):\n",
    "        circuit.parameter('V1', x)\n",
    "        simulator = circuit.simulator()\n",
    "        analysis = simulator.operating_point()\n",
    "        ys[i] = analysis['2'][0]\n",
    "\n",
    "        netlist = str(circuit)\n",
    "\n",
    "        with open(f'{circuit.title}.cir', 'wt') as f:\n",
    "            f.write(netlist + '.op\\n')\n",
    "\n",
    "        system(f'/Applications/LTspice.app/Contents/MacOS/LTspice -b {circuit.title}.cir')\n",
    "        \n",
    "        l = ltspice.Ltspice(f'{circuit.title}.raw')\n",
    "        l.parse()\n",
    "        ys[i] = l.get_data('V(2)')[0]\n",
    "\n",
    "    return ys\n",
    "\n",
    "\n",
    "def sim_loop(n):\n",
    "    circuit = Circuit('test')\n",
    "\n",
    "    circuit.V(1, 1, 0, f'{{V1}}')\n",
    "    circuit.R(1, 2, 1, 5)\n",
    "    circuit.R(2, 2, 0, 1)\n",
    "\n",
    "\n",
    "    xs = np.random.randn(n)\n",
    "    ys = np.empty(n)\n",
    "\n",
    "    for i, x in enumerate(xs):\n",
    "        circuit.parameter('V1', x)\n",
    "        simulator = circuit.simulator()\n",
    "        analysis = simulator.operating_point()\n",
    "        ys[i] = analysis['2'][0]\n",
    "\n",
    "    return ys\n",
    "\n",
    "def sim_sweep(n):\n",
    "    circuit = Circuit('test')\n",
    "\n",
    "    circuit.V('dummy', 'dummy1', 0, -1)\n",
    "    \n",
    "    circuit.R(1, 2, 1, 5)\n",
    "    circuit.R(2, 2, 0, 1)\n",
    "\n",
    "    xs = np.random.randn(n)\n",
    "    arr = [str(val) for pair in zip(range(1, len(xs)+1), xs) for val in pair]\n",
    "    ss = ', '.join(arr)\n",
    "    s = f'pwl(V(dummy1), {ss})'\n",
    "    circuit.B(1, 1, 0, v=s)\n",
    "\n",
    "    simulator = circuit.simulator()\n",
    "    analysis = simulator.dc(Vdummy=slice(1, n, 1))\n",
    "\n",
    "    return analysis['2']\n"
   ]
  },
  {
   "attachments": {},
   "cell_type": "markdown",
   "metadata": {},
   "source": [
    "##### Time benchmarks\n",
    "Clearly, the NGSpice implementations are much faster (since they don't have to write to a file). It's much faster still to treat multiple evaluations on a single (fixed) circuit as parameter (voltage) sweeps over time and extract the results as such"
   ]
  },
  {
   "cell_type": "code",
   "execution_count": 126,
   "metadata": {},
   "outputs": [
    {
     "name": "stdout",
     "output_type": "stream",
     "text": [
      "2.97 s ± 68.5 ms per loop (mean ± std. dev. of 7 runs, 1 loop each)\n"
     ]
    }
   ],
   "source": [
    "%timeit sim_ltspice(100)"
   ]
  },
  {
   "cell_type": "code",
   "execution_count": null,
   "metadata": {},
   "outputs": [
    {
     "name": "stdout",
     "output_type": "stream",
     "text": [
      "80.7 ms ± 6.18 ms per loop (mean ± std. dev. of 7 runs, 10 loops each)\n"
     ]
    }
   ],
   "source": [
    "%timeit sim_loop(100)"
   ]
  },
  {
   "cell_type": "code",
   "execution_count": 99,
   "metadata": {},
   "outputs": [
    {
     "name": "stdout",
     "output_type": "stream",
     "text": [
      "2.02 ms ± 46.6 µs per loop (mean ± std. dev. of 7 runs, 100 loops each)\n"
     ]
    }
   ],
   "source": [
    "%timeit sim_sweep(100)"
   ]
  },
  {
   "attachments": {},
   "cell_type": "markdown",
   "metadata": {},
   "source": [
    "We can see that all 3 methods are equivalent and yield correct results"
   ]
  },
  {
   "cell_type": "code",
   "execution_count": 125,
   "metadata": {},
   "outputs": [
    {
     "data": {
      "text/plain": [
       "array([ 0.03753552,  0.07515843,  0.02449396, -0.2364496 , -0.13480079,\n",
       "       -0.01133541,  0.338294  , -0.18403737, -0.29598153,  0.28983209,\n",
       "        0.29039168,  0.29880744,  0.0798609 , -0.03220775, -0.14470004,\n",
       "       -0.22870971, -0.12719533, -0.35808623, -0.09261359,  0.00710801,\n",
       "       -0.03420829,  0.28246838, -0.14557856,  0.00908494,  0.03511909,\n",
       "        0.07597739, -0.09303888,  0.0851147 ,  0.02474598,  0.14610714,\n",
       "       -0.0972068 , -0.02091046,  0.27078012,  0.16743305,  0.25520605,\n",
       "        0.08348022, -0.02364058, -0.13090456,  0.06406467,  0.0687949 ,\n",
       "        0.16362356,  0.10467349,  0.04359397, -0.07487158,  0.22197866,\n",
       "        0.06946041, -0.07002871,  0.0234651 ,  0.24606387,  0.06372093,\n",
       "       -0.23425278,  0.06892099, -0.31014207, -0.05421357,  0.06740066,\n",
       "        0.13865423, -0.19310217, -0.12016212, -0.14590812,  0.19561708,\n",
       "        0.31243864, -0.00499533,  0.03768062,  0.00767007, -0.1543553 ,\n",
       "        0.17335002,  0.34307778, -0.37501946,  0.15394862, -0.01489633,\n",
       "       -0.04411152,  0.21194944,  0.0386722 , -0.09794357,  0.06066968,\n",
       "       -0.11141109,  0.26385802, -0.08164966, -0.02857271,  0.26106191,\n",
       "       -0.12336267, -0.24519087,  0.27712724,  0.05239026,  0.23528121,\n",
       "        0.00536106, -0.19659741,  0.15101716, -0.03765646,  0.16072996,\n",
       "        0.13881074, -0.02414676, -0.06762395, -0.00888113,  0.11310305,\n",
       "       -0.26931503, -0.13596143,  0.05291996,  0.26228771, -0.16379903])"
      ]
     },
     "execution_count": 125,
     "metadata": {},
     "output_type": "execute_result"
    }
   ],
   "source": [
    "sim_ltspice(100)"
   ]
  },
  {
   "cell_type": "code",
   "execution_count": 96,
   "metadata": {},
   "outputs": [
    {
     "data": {
      "text/plain": [
       "array([ 0.07885199,  0.00596468,  0.10027783, -0.19254222,  0.04265089,\n",
       "        0.15585951,  0.04825964, -0.14479955, -0.03139508,  0.06068564,\n",
       "        0.26492146,  0.30977932,  0.05294426, -0.06801088,  0.01489242,\n",
       "        0.13566437, -0.11193573, -0.17149723,  0.16622229,  0.1454099 ,\n",
       "       -0.25769422,  0.01604261,  0.27451256, -0.01951146, -0.00546602,\n",
       "       -0.20456149, -0.07378468,  0.25498283,  0.07233379,  0.19071317,\n",
       "       -0.05652476,  0.00870971,  0.41615437,  0.06575635,  0.01684677,\n",
       "       -0.05334982, -0.14993801, -0.27818801,  0.20542711, -0.11969818,\n",
       "       -0.05676845, -0.22124776,  0.00732349,  0.27310307,  0.15492283,\n",
       "       -0.15300501,  0.0947758 , -0.3269793 , -0.20635242,  0.08809042,\n",
       "        0.21953174,  0.17563762, -0.13342021,  0.27200931, -0.04283765,\n",
       "       -0.12808769,  0.05405765, -0.08851511, -0.172861  ,  0.26988958,\n",
       "       -0.43738956, -0.14483025, -0.10971197,  0.13188113, -0.24398625,\n",
       "       -0.08017224,  0.02791431,  0.22701923,  0.0020701 ,  0.17580056,\n",
       "        0.23253899, -0.10982527,  0.03645337, -0.1794131 ,  0.2196302 ,\n",
       "        0.11170189,  0.04935096, -0.27469106, -0.03691339,  0.05360001,\n",
       "        0.12669636,  0.10293389,  0.2980434 ,  0.10246617,  0.24798018,\n",
       "        0.14304431,  0.1558185 ,  0.26251195,  0.01348291,  0.19304435,\n",
       "       -0.01089316,  0.39463488,  0.07140804, -0.02095423, -0.08754325,\n",
       "       -0.13983568, -0.19869822, -0.1904416 , -0.14465464, -0.03271093])"
      ]
     },
     "execution_count": 96,
     "metadata": {},
     "output_type": "execute_result"
    }
   ],
   "source": [
    "sim_loop(100)"
   ]
  },
  {
   "cell_type": "code",
   "execution_count": 97,
   "metadata": {},
   "outputs": [
    {
     "data": {
      "text/plain": [
       "WaveForm 2 [ 0.02441613 -0.34081    -0.1528805   0.21790592 -0.11922598  0.18016186\n",
       " -0.38575869  0.00135926  0.24443974 -0.0653691  -0.0072039  -0.12379952\n",
       " -0.07608914  0.00447689 -0.02725391  0.0897094   0.25522818  0.1879693\n",
       "  0.07901359 -0.07360227  0.08300477 -0.00988042  0.0343416  -0.18854794\n",
       " -0.2059747  -0.1155127  -0.07819007 -0.11610655  0.21581297 -0.05313878\n",
       " -0.0468844   0.09001434 -0.09105134 -0.01706024  0.25172506  0.21968816\n",
       " -0.05923915  0.05104817 -0.10104417  0.02254201  0.04404495 -0.10922652\n",
       "  0.06505453  0.19943546  0.01068215  0.01270706 -0.05390161 -0.14618208\n",
       "  0.02327254  0.06133501  0.11363337  0.02501201 -0.10862106  0.05957903\n",
       "  0.14300351  0.14322172 -0.05410551 -0.17340947 -0.13848567  0.23062845\n",
       "  0.3830449  -0.18915428 -0.09034973  0.00595632 -0.0358194   0.02024012\n",
       "  0.04581613  0.29006454 -0.00454236  0.21103563 -0.1897534  -0.20186578\n",
       " -0.22288207 -0.10847534  0.13227957 -0.06142107  0.05344406 -0.16642306\n",
       " -0.18742295 -0.21643933 -0.1086559   0.05719268 -0.01314127  0.03244622\n",
       "  0.18406163 -0.1810889   0.07619131 -0.22680534 -0.1577483   0.03330964\n",
       "  0.10337785 -0.27192748 -0.20824925  0.07759586  0.08443653 -0.18234499\n",
       "  0.21221554 -0.35984583  0.15337391 -0.10862762]@V"
      ]
     },
     "execution_count": 97,
     "metadata": {},
     "output_type": "execute_result"
    }
   ],
   "source": [
    "sim_sweep(100)"
   ]
  },
  {
   "cell_type": "code",
   "execution_count": null,
   "metadata": {},
   "outputs": [],
   "source": []
  }
 ],
 "metadata": {
  "kernelspec": {
   "display_name": "circuit_sim",
   "language": "python",
   "name": "python3"
  },
  "language_info": {
   "codemirror_mode": {
    "name": "ipython",
    "version": 3
   },
   "file_extension": ".py",
   "mimetype": "text/x-python",
   "name": "python",
   "nbconvert_exporter": "python",
   "pygments_lexer": "ipython3",
   "version": "3.10.6"
  },
  "orig_nbformat": 4,
  "vscode": {
   "interpreter": {
    "hash": "b811e8891fead4dcff43daa60840d3aad128e33d8d0bca8c2c5a932e95776058"
   }
  }
 },
 "nbformat": 4,
 "nbformat_minor": 2
}
