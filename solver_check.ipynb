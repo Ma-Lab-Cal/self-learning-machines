{
 "cells": [
  {
   "cell_type": "code",
   "execution_count": 2,
   "metadata": {},
   "outputs": [],
   "source": [
    "%reload_ext autoreload\n",
    "%autoreload 2\n",
    "import opt\n",
    "import numpy as np\n",
    "import matplotlib.pyplot as plt\n",
    "import PySpice\n",
    "import numpy as np\n",
    "from spice_net import *\n",
    "from os import system"
   ]
  },
  {
   "cell_type": "markdown",
   "metadata": {},
   "source": [
    "#### Generate Dataset"
   ]
  },
  {
   "cell_type": "code",
   "execution_count": 3,
   "metadata": {},
   "outputs": [],
   "source": [
    "# Generate N random points\n",
    "N = 100\n",
    "split = 0.8\n",
    "pts = np.random.rand(N, 2)\n",
    "\n",
    "# Split into training and testing datasets\n",
    "np.random.shuffle(pts)\n",
    "train, test = {}, {}\n",
    "train['x'], test['x'] = pts[:int(N*split),:], pts[int(N*split):,:]\n",
    "\n",
    "# Generate categories with nonlinear decision boundary\n",
    "x1 = np.random.random(1)\n",
    "m = np.random.random(1)\n",
    "decision_bound = lambda x: -m*x +x1\n",
    "\n",
    "mask = pts[:, 1] > decision_bound(pts[:, 0])\n",
    "pos = pts[mask]\n",
    "neg = pts[~mask]\n",
    "train['y'], test['y'] = mask[:int(N*split)].astype(int), mask[int(N*split):].astype(int)"
   ]
  },
  {
   "cell_type": "code",
   "execution_count": 4,
   "metadata": {},
   "outputs": [
    {
     "data": {
      "text/plain": [
       "[<matplotlib.lines.Line2D at 0x12ac1b9a0>]"
      ]
     },
     "execution_count": 4,
     "metadata": {},
     "output_type": "execute_result"
    },
    {
     "data": {
      "image/png": "[encoded data removed]",
      "text/plain": [
       "<Figure size 432x288 with 1 Axes>"
      ]
     },
     "metadata": {
      "needs_background": "light"
     },
     "output_type": "display_data"
    }
   ],
   "source": [
    "# Visualize dataset\n",
    "plt.scatter(*pos.T)\n",
    "plt.scatter(*neg.T)\n",
    "xs = np.arange(0, min(x1/m,1), 0.01)\n",
    "plt.plot(xs, decision_bound(xs), 'r')"
   ]
  },
  {
   "cell_type": "markdown",
   "metadata": {},
   "source": [
    "#### Generate random networks"
   ]
  },
  {
   "cell_type": "code",
   "execution_count": 5,
   "metadata": {},
   "outputs": [],
   "source": [
    "# Parameters\n",
    "num_nodes = 10\n",
    "density = 5/(num_nodes-1) # limit average degree to 5\n",
    "denser = 0.8\n",
    "diode_thresh = 0.2 # on average each node has 1 diode\n",
    "mask = np.random.uniform(0, 0.5, (num_nodes, num_nodes))\n",
    "mask = mask + mask.T\n",
    "con = mask < density\n",
    "dense = mask < denser\n",
    "diodes = mask < diode_thresh\n",
    "node_cfg = np.random.permutation([1, 1, -1] + [0]*(num_nodes-3))"
   ]
  },
  {
   "cell_type": "code",
   "execution_count": 6,
   "metadata": {},
   "outputs": [],
   "source": [
    "# Create the linear network -- initialize random (symmetric) resistor values and apply \n",
    "# the connectivity mask\n",
    "tmp = np.random.rand(num_nodes, num_nodes)\n",
    "lin_network = (tmp + tmp.T) * dense"
   ]
  },
  {
   "cell_type": "code",
   "execution_count": 7,
   "metadata": {},
   "outputs": [],
   "source": [
    "# Create the nonlinear network -- initialize random (symmetric) resistor values and apply \n",
    "# the connectivity mask. Then, apply the diode mask by assigning random directions to each diode.\n",
    "relu_network = (tmp + tmp.T) * (dense & ~(diodes | diodes.T))\n",
    "diodes_dir = tmp < tmp.T\n",
    "relu_network += diodes_dir * diodes"
   ]
  },
  {
   "cell_type": "code",
   "execution_count": 8,
   "metadata": {},
   "outputs": [
    {
     "name": "stdout",
     "output_type": "stream",
     "text": [
      "Linear network edges: 41\n",
      "ReLu network edges: 36\n",
      "ReLu network diodes: 5\n"
     ]
    }
   ],
   "source": [
    "# Print network statistics:\n",
    "diag_mask = ~np.eye(lin_network.shape[0]).astype(bool)\n",
    "print(f'Linear network edges: {np.sum(diag_mask * lin_network > 0)//2}')\n",
    "print(f'ReLu network edges: {np.sum(diag_mask * np.minimum(relu_network, relu_network.T) > 0)//2}')\n",
    "print(f'ReLu network diodes: {np.sum(diag_mask * (relu_network != relu_network.T))//2}')"
   ]
  },
  {
   "cell_type": "markdown",
   "metadata": {},
   "source": [
    "#### Build Network in ~~PySpice~~ LTSpice"
   ]
  },
  {
   "cell_type": "code",
   "execution_count": 13,
   "metadata": {},
   "outputs": [],
   "source": [
    "circuit = Circuit('Network')\n",
    "nodes = np.char.add(np.full(num_nodes, 'n'), np.arange(num_nodes).astype(str))"
   ]
  },
  {
   "cell_type": "code",
   "execution_count": 14,
   "metadata": {},
   "outputs": [],
   "source": [
    "net = LinearNetwork('linear', lin_network, node_cfg)"
   ]
  },
  {
   "cell_type": "code",
   "execution_count": 12,
   "metadata": {},
   "outputs": [
    {
     "ename": "AttributeError",
     "evalue": "'int' object has no attribute 'shape'",
     "output_type": "error",
     "traceback": [
      "\u001b[0;31m---------------------------------------------------------------------------\u001b[0m",
      "\u001b[0;31mAttributeError\u001b[0m                            Traceback (most recent call last)",
      "\u001b[1;32m/Users/lancemathias/Projects/circuit_sim/solver_check.ipynb Cell 13\u001b[0m in \u001b[0;36m<cell line: 1>\u001b[0;34m()\u001b[0m\n\u001b[0;32m----> <a href='vscode-notebook-cell:/Users/lancemathias/Projects/circuit_sim/solver_check.ipynb#X34sZmlsZQ%3D%3D?line=0'>1</a>\u001b[0m net\u001b[39m.\u001b[39;49msolve(train[\u001b[39m'\u001b[39;49m\u001b[39mx\u001b[39;49m\u001b[39m'\u001b[39;49m][\u001b[39m0\u001b[39;49m])\n",
      "File \u001b[0;32m~/Projects/circuit_sim/spice_net.py:23\u001b[0m, in \u001b[0;36mLinearNetwork.solve\u001b[0;34m(self, inputs)\u001b[0m\n\u001b[1;32m     21\u001b[0m \u001b[39mdef\u001b[39;00m \u001b[39msolve\u001b[39m(\u001b[39mself\u001b[39m, inputs):\n\u001b[1;32m     22\u001b[0m     \u001b[39massert\u001b[39;00m inputs\u001b[39m.\u001b[39msize \u001b[39m==\u001b[39m np\u001b[39m.\u001b[39msum(\u001b[39mself\u001b[39m\u001b[39m.\u001b[39mnode_cfg \u001b[39m>\u001b[39m \u001b[39m0\u001b[39m), \u001b[39m'\u001b[39m\u001b[39minvalid input size\u001b[39m\u001b[39m'\u001b[39m\n\u001b[0;32m---> 23\u001b[0m     circ \u001b[39m=\u001b[39m \u001b[39mself\u001b[39;49m\u001b[39m.\u001b[39;49mclone()\n\u001b[1;32m     24\u001b[0m     \u001b[39mfor\u001b[39;00m v, ind \u001b[39min\u001b[39;00m \u001b[39mzip\u001b[39m(inputs\u001b[39m.\u001b[39mflatten(), np\u001b[39m.\u001b[39margwhere(\u001b[39mself\u001b[39m\u001b[39m.\u001b[39mnode_cfg \u001b[39m>\u001b[39m \u001b[39m0\u001b[39m)\u001b[39m.\u001b[39mflatten()):\n\u001b[1;32m     25\u001b[0m         circ\u001b[39m.\u001b[39mV(ind, circ\u001b[39m.\u001b[39m__nodes__[ind], circuit\u001b[39m.\u001b[39mgnd, v)\n",
      "File \u001b[0;32m/opt/homebrew/Caskroom/miniconda/base/envs/circuit_sim/lib/python3.10/site-packages/PySpice/Spice/Netlist.py:1171\u001b[0m, in \u001b[0;36mCircuit.clone\u001b[0;34m(self, title)\u001b[0m\n\u001b[1;32m   1168\u001b[0m \u001b[39mif\u001b[39;00m title \u001b[39mis\u001b[39;00m \u001b[39mNone\u001b[39;00m:\n\u001b[1;32m   1169\u001b[0m     title \u001b[39m=\u001b[39m \u001b[39mself\u001b[39m\u001b[39m.\u001b[39mtitle\n\u001b[0;32m-> 1171\u001b[0m circuit \u001b[39m=\u001b[39m \u001b[39mself\u001b[39;49m\u001b[39m.\u001b[39;49m\u001b[39m__class__\u001b[39;49m(title, \u001b[39mself\u001b[39;49m\u001b[39m.\u001b[39;49m_ground, \u001b[39mset\u001b[39;49m(\u001b[39mself\u001b[39;49m\u001b[39m.\u001b[39;49m_global_nodes))\n\u001b[1;32m   1172\u001b[0m \u001b[39mself\u001b[39m\u001b[39m.\u001b[39mcopy_to(circuit)\n\u001b[1;32m   1174\u001b[0m \u001b[39mfor\u001b[39;00m include \u001b[39min\u001b[39;00m \u001b[39mself\u001b[39m\u001b[39m.\u001b[39m_includes:\n",
      "File \u001b[0;32m~/Projects/circuit_sim/spice_net.py:9\u001b[0m, in \u001b[0;36mLinearNetwork.__init__\u001b[0;34m(self, name, con_mat, node_cfg)\u001b[0m\n\u001b[1;32m      7\u001b[0m \u001b[39mself\u001b[39m\u001b[39m.\u001b[39mname \u001b[39m=\u001b[39m name\n\u001b[1;32m      8\u001b[0m \u001b[39msuper\u001b[39m()\u001b[39m.\u001b[39m\u001b[39m__init__\u001b[39m(name)\n\u001b[0;32m----> 9\u001b[0m \u001b[39mself\u001b[39m\u001b[39m.\u001b[39m__nodes__ \u001b[39m=\u001b[39m [i \u001b[39mfor\u001b[39;00m i \u001b[39min\u001b[39;00m \u001b[39mrange\u001b[39m(con_mat\u001b[39m.\u001b[39;49mshape[\u001b[39m0\u001b[39m])]\n\u001b[1;32m     10\u001b[0m \u001b[39mself\u001b[39m\u001b[39m.\u001b[39mnode_cfg \u001b[39m=\u001b[39m node_cfg\n\u001b[1;32m     11\u001b[0m n \u001b[39m=\u001b[39m con_mat\u001b[39m.\u001b[39mshape[\u001b[39m0\u001b[39m]\n",
      "\u001b[0;31mAttributeError\u001b[0m: 'int' object has no attribute 'shape'"
     ]
    }
   ],
   "source": [
    "net.solve(train['x'][0])"
   ]
  },
  {
   "cell_type": "code",
   "execution_count": 15,
   "metadata": {},
   "outputs": [],
   "source": [
    "l = net.read()"
   ]
  },
  {
   "cell_type": "code",
   "execution_count": 16,
   "metadata": {},
   "outputs": [
    {
     "data": {
      "text/plain": [
       "array([[0.52557236],\n",
       "       [0.53779733],\n",
       "       [0.5905766 ],\n",
       "       [0.5095301 ],\n",
       "       [0.5599315 ],\n",
       "       [0.51948243],\n",
       "       [0.53465784],\n",
       "       [0.9990042 ],\n",
       "       [0.5308634 ]], dtype=float32)"
      ]
     },
     "execution_count": 16,
     "metadata": {},
     "output_type": "execute_result"
    }
   ],
   "source": [
    "l"
   ]
  },
  {
   "cell_type": "markdown",
   "metadata": {},
   "source": [
    "#### Solve with normal solver and PySpice"
   ]
  },
  {
   "cell_type": "code",
   "execution_count": null,
   "metadata": {},
   "outputs": [],
   "source": [
    "inp1 = train['x'][0, None]\n",
    "\n",
    "diy_solver = opt.inference(lin_network, inp1, node_cfg)\n",
    "spice_solver = net.solve(inp1) or net.read()"
   ]
  },
  {
   "cell_type": "code",
   "execution_count": null,
   "metadata": {},
   "outputs": [
    {
     "data": {
      "text/plain": [
       "array([[0.50953014, 0.99900418]])"
      ]
     },
     "execution_count": 188,
     "metadata": {},
     "output_type": "execute_result"
    }
   ],
   "source": [
    "inp1"
   ]
  },
  {
   "cell_type": "code",
   "execution_count": null,
   "metadata": {},
   "outputs": [
    {
     "name": "stdout",
     "output_type": "stream",
     "text": [
      "[[0.04223934 0.89589543 1.24266344 0.82631479 0.83985805 1.12493371\n",
      "  1.05584502 0.76450271 0.71821157 0.97663831]\n",
      " [0.89589543 1.94335897 1.05359196 1.31469167 0.74250531 1.02439593\n",
      "  0.97116581 1.09423346 0.98516011 0.17031571]\n",
      " [1.24266344 1.05359196 0.17217815 1.1137688  0.23247437 0.83092974\n",
      "  0.77905301 0.61608632 0.87844044 1.54911909]\n",
      " [0.82631479 1.31469167 1.1137688  0.         1.71361644 1.37373144\n",
      "  0.57256847 1.02123503 0.36474293 1.00025176]\n",
      " [0.83985805 0.74250531 0.23247437 1.71361644 1.51844118 0.32740392\n",
      "  0.66676301 1.79898663 0.96240378 1.02428949]\n",
      " [1.12493371 1.02439593 0.83092974 1.37373144 0.32740392 0.68230211\n",
      "  1.23046427 0.         0.59007422 1.34171724]\n",
      " [1.05584502 0.97116581 0.77905301 0.57256847 0.66676301 1.23046427\n",
      "  1.06439079 1.17959773 1.60189147 1.4405797 ]\n",
      " [0.76450271 1.09423346 0.61608632 1.02123503 1.79898663 0.\n",
      "  1.17959773 1.08412303 0.68588588 1.60462902]\n",
      " [0.71821157 0.98516011 0.87844044 0.36474293 0.96240378 0.59007422\n",
      "  1.60189147 0.68588588 0.57598752 0.90874284]\n",
      " [0.97663831 0.17031571 1.54911909 1.00025176 1.02428949 1.34171724\n",
      "  1.4405797  1.60462902 0.90874284 1.8620461 ]]\n"
     ]
    }
   ],
   "source": [
    "print(lin_network)"
   ]
  },
  {
   "cell_type": "code",
   "execution_count": null,
   "metadata": {},
   "outputs": [
    {
     "data": {
      "text/plain": [
       "(array([[0.44899336, 0.50294916, 0.42824706, 0.43407817, 0.50953014,\n",
       "         0.42239947, 0.47492998, 0.42929077, 0.99900418, 0.        ]]),\n",
       " array([[0.52557236],\n",
       "        [0.53779733],\n",
       "        [0.5905766 ],\n",
       "        [0.5095301 ],\n",
       "        [0.5599315 ],\n",
       "        [0.51948243],\n",
       "        [0.53465784],\n",
       "        [0.9990042 ],\n",
       "        [0.5308634 ]], dtype=float32))"
      ]
     },
     "execution_count": 189,
     "metadata": {},
     "output_type": "execute_result"
    }
   ],
   "source": [
    "diy_solver, spice_solver"
   ]
  }
 ],
 "metadata": {
  "kernelspec": {
   "display_name": "Python 3.10.6 ('circuit_sim')",
   "language": "python",
   "name": "python3"
  },
  "language_info": {
   "codemirror_mode": {
    "name": "ipython",
    "version": 3
   },
   "file_extension": ".py",
   "mimetype": "text/x-python",
   "name": "python",
   "nbconvert_exporter": "python",
   "pygments_lexer": "ipython3",
   "version": "3.10.6"
  },
  "orig_nbformat": 4,
  "vscode": {
   "interpreter": {
    "hash": "b811e8891fead4dcff43daa60840d3aad128e33d8d0bca8c2c5a932e95776058"
   }
  }
 },
 "nbformat": 4,
 "nbformat_minor": 2
}
