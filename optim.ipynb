{
 "cells": [
  {
   "cell_type": "code",
   "execution_count": 95,
   "metadata": {},
   "outputs": [
    {
     "name": "stdout",
     "output_type": "stream",
     "text": [
      "The autoreload extension is already loaded. To reload it, use:\n",
      "  %reload_ext autoreload\n"
     ]
    }
   ],
   "source": [
    "%load_ext autoreload\n",
    "%autoreload 2\n",
    "from scipy.optimize import minimize\n",
    "from scipy.optimize import approx_fprime\n",
    "from opt import *\n",
    "import numpy as np"
   ]
  },
  {
   "cell_type": "markdown",
   "metadata": {},
   "source": [
    "### Linear (resistor only) simulation"
   ]
  },
  {
   "cell_type": "code",
   "execution_count": 96,
   "metadata": {},
   "outputs": [
    {
     "data": {
      "text/plain": [
       "array([7.45058060e-07, 1.50501728e-06, 7.45058060e-07, 1.49011612e-06])"
      ]
     },
     "execution_count": 96,
     "metadata": {},
     "output_type": "execute_result"
    }
   ],
   "source": [
    "approx_fprime(np.zeros(4), better_obj(res_mat))"
   ]
  },
  {
   "cell_type": "code",
   "execution_count": 97,
   "metadata": {},
   "outputs": [],
   "source": [
    "R = 50\n",
    "X = 1 # value of X is a placeholder -- doesn't matter\n",
    "v0 = 5\n",
    "\n",
    "res_mat = np.array([[X, R, 0, 0], \n",
    "                    [R, X, 1, R], \n",
    "                    [0, 0, X, R], \n",
    "                    [0, R, R, X]])\n"
   ]
  },
  {
   "cell_type": "code",
   "execution_count": 98,
   "metadata": {},
   "outputs": [],
   "source": [
    "n = 50\n",
    "\n",
    "rand_mat = np.random.rand(n, n)\n",
    "\n",
    "N = 100\n",
    "mask = np.random.choice(a=[True, False], size=(N,N), p=[0.5, 0.5])\n",
    "mask = np.logical_and(mask, mask.T)\n",
    "res = np.random.random(size=(N,N))\n",
    "res = (res + res.T) * mask\n",
    "\n",
    "big_mat = res\n",
    "\n",
    "x0_big = np.random.rand(n)\n",
    "obj_big = min_fun(big_mat)\n",
    "\n",
    "bounds = [(None, None) for _ in range(n)]\n",
    "bounds[0] = (v0, v0)\n",
    "bounds[-1] = (0, 0)"
   ]
  },
  {
   "cell_type": "code",
   "execution_count": 99,
   "metadata": {},
   "outputs": [],
   "source": [
    "res_big = minimize(obj_big, x0_big, bounds=bounds)"
   ]
  },
  {
   "cell_type": "code",
   "execution_count": 100,
   "metadata": {},
   "outputs": [
    {
     "data": {
      "text/plain": [
       "      fun: 125.27419831462294\n",
       " hess_inv: None\n",
       "      jac: array([            nan,  0.00000000e+00,  9.37916417e-05, -9.94759836e-06,\n",
       "       -2.70006241e-05, -7.53175304e-05,  1.00897069e-04, -1.20792266e-04,\n",
       "       -2.84217096e-05, -8.81072998e-05, -6.11066756e-05, -4.54747354e-05,\n",
       "        2.85638182e-04,  7.81597014e-05, -9.94759836e-06,  4.12114789e-05,\n",
       "       -8.66862143e-05, -2.98427951e-05,  8.38440433e-05,  6.67910176e-05,\n",
       "        1.13686838e-04, -1.00897069e-04, -1.09423582e-04, -1.00897069e-04,\n",
       "        0.00000000e+00,  1.27897693e-05, -5.40012482e-05,  1.02318155e-04,\n",
       "        8.95283852e-05, -1.35003121e-04, -9.09494707e-05, -1.05160326e-04,\n",
       "       -9.37916417e-05, -1.27897693e-05,  2.81374925e-04,  1.42108548e-05,\n",
       "        3.31112917e-04,  1.70530258e-04, -8.52651288e-06,  6.53699321e-05,\n",
       "       -3.55271370e-05,  6.82121030e-05, -3.28270746e-04,  6.39488466e-05,\n",
       "        3.26849660e-05, -9.23705562e-05, -2.84217096e-05,  1.42108548e-06,\n",
       "       -1.54898317e-04,             nan])\n",
       "  message: 'CONVERGENCE: REL_REDUCTION_OF_F_<=_FACTR*EPSMCH'\n",
       "     nfev: 882\n",
       "      nit: 16\n",
       "     njev: 18\n",
       "   status: 0\n",
       "  success: True\n",
       "        x: array([5.        , 2.32900495, 2.42130791, 2.38564904, 2.39533003,\n",
       "       2.35371387, 2.351004  , 2.42219965, 2.4976438 , 2.54282051,\n",
       "       2.37086341, 2.3992591 , 2.52650106, 2.34687557, 2.41517992,\n",
       "       2.41383409, 2.29150282, 2.28670155, 2.33861674, 2.45665269,\n",
       "       2.23471591, 2.34268733, 2.36904176, 2.70897921, 2.21473123,\n",
       "       2.40500868, 2.46286123, 2.45733358, 2.29331239, 2.04967216,\n",
       "       2.29431435, 2.18068432, 2.45104032, 2.40807067, 2.36957768,\n",
       "       2.16027514, 2.73056464, 2.37270132, 2.46519404, 2.37604834,\n",
       "       2.20118612, 1.97756714, 2.4789568 , 2.3727729 , 2.358936  ,\n",
       "       2.36542196, 2.23424571, 2.70328629, 2.10701864, 0.        ])"
      ]
     },
     "execution_count": 100,
     "metadata": {},
     "output_type": "execute_result"
    }
   ],
   "source": [
    "res_big"
   ]
  },
  {
   "cell_type": "code",
   "execution_count": 101,
   "metadata": {},
   "outputs": [
    {
     "data": {
      "text/plain": [
       "array([[1.10747509, 0.        , 0.        , ..., 0.        , 0.        ,\n",
       "        0.54565803],\n",
       "       [0.        , 1.36353834, 0.        , ..., 0.        , 0.        ,\n",
       "        0.        ],\n",
       "       [0.        , 0.        , 0.37061191, ..., 0.        , 0.        ,\n",
       "        0.        ],\n",
       "       ...,\n",
       "       [0.        , 0.        , 0.        , ..., 0.        , 0.        ,\n",
       "        0.        ],\n",
       "       [0.        , 0.        , 0.        , ..., 0.        , 0.        ,\n",
       "        0.        ],\n",
       "       [0.54565803, 0.        , 0.        , ..., 0.        , 0.        ,\n",
       "        0.21968306]])"
      ]
     },
     "execution_count": 101,
     "metadata": {},
     "output_type": "execute_result"
    }
   ],
   "source": [
    "big_mat"
   ]
  },
  {
   "cell_type": "code",
   "execution_count": 102,
   "metadata": {},
   "outputs": [
    {
     "data": {
      "text/plain": [
       "(0.0, 1.9845850722831448)"
      ]
     },
     "execution_count": 102,
     "metadata": {},
     "output_type": "execute_result"
    }
   ],
   "source": [
    "np.min(big_mat), np.max(big_mat)"
   ]
  },
  {
   "cell_type": "code",
   "execution_count": 103,
   "metadata": {},
   "outputs": [
    {
     "data": {
      "text/plain": [
       "array([5.        , 2.32900495, 2.42130791, 2.38564904, 2.39533003,\n",
       "       2.35371387, 2.351004  , 2.42219965, 2.4976438 , 2.54282051,\n",
       "       2.37086341, 2.3992591 , 2.52650106, 2.34687557, 2.41517992,\n",
       "       2.41383409, 2.29150282, 2.28670155, 2.33861674, 2.45665269,\n",
       "       2.23471591, 2.34268733, 2.36904176, 2.70897921, 2.21473123,\n",
       "       2.40500868, 2.46286123, 2.45733358, 2.29331239, 2.04967216,\n",
       "       2.29431435, 2.18068432, 2.45104032, 2.40807067, 2.36957768,\n",
       "       2.16027514, 2.73056464, 2.37270132, 2.46519404, 2.37604834,\n",
       "       2.20118612, 1.97756714, 2.4789568 , 2.3727729 , 2.358936  ,\n",
       "       2.36542196, 2.23424571, 2.70328629, 2.10701864, 0.        ])"
      ]
     },
     "execution_count": 103,
     "metadata": {},
     "output_type": "execute_result"
    }
   ],
   "source": [
    "res_big.x"
   ]
  },
  {
   "cell_type": "code",
   "execution_count": 104,
   "metadata": {},
   "outputs": [],
   "source": [
    "x0 = np.zeros(4)\n",
    "obj = min_fun(res_mat)\n",
    "\n",
    "res = minimize(obj, x0, bounds=((v0, v0), (None, None), (None, None), (0,0)))"
   ]
  },
  {
   "cell_type": "code",
   "execution_count": 105,
   "metadata": {},
   "outputs": [],
   "source": [
    "obj_opt = better_obj(res_mat)\n",
    "res_opt = minimize(obj_opt, x0, bounds=((v0, v0), (None, None), (None, None), (0,0)))"
   ]
  },
  {
   "cell_type": "code",
   "execution_count": 106,
   "metadata": {},
   "outputs": [
    {
     "data": {
      "text/plain": [
       "      fun: 631.0679611650492\n",
       " hess_inv: None\n",
       "      jac: array([nan,  0.,  0., nan])\n",
       "  message: 'CONVERGENCE: NORM_OF_PROJECTED_GRADIENT_<=_PGTOL'\n",
       "     nfev: 15\n",
       "      nit: 4\n",
       "     njev: 5\n",
       "   status: 0\n",
       "  success: True\n",
       "        x: array([5.        , 2.47572822, 0.04854363, 0.        ])"
      ]
     },
     "execution_count": 106,
     "metadata": {},
     "output_type": "execute_result"
    }
   ],
   "source": [
    "res"
   ]
  },
  {
   "cell_type": "code",
   "execution_count": 107,
   "metadata": {},
   "outputs": [
    {
     "data": {
      "text/plain": [
       "      fun: 631.0679611650492\n",
       " hess_inv: None\n",
       "      jac: array([nan,  0.,  0., nan])\n",
       "  message: 'CONVERGENCE: NORM_OF_PROJECTED_GRADIENT_<=_PGTOL'\n",
       "     nfev: 15\n",
       "      nit: 4\n",
       "     njev: 5\n",
       "   status: 0\n",
       "  success: True\n",
       "        x: array([5.        , 2.47572822, 0.04854363, 0.        ])"
      ]
     },
     "execution_count": 107,
     "metadata": {},
     "output_type": "execute_result"
    }
   ],
   "source": [
    "res_opt"
   ]
  },
  {
   "cell_type": "code",
   "execution_count": 108,
   "metadata": {},
   "outputs": [
    {
     "data": {
      "text/plain": [
       "array([5.        , 2.47572822, 0.04854363, 0.        ])"
      ]
     },
     "execution_count": 108,
     "metadata": {},
     "output_type": "execute_result"
    }
   ],
   "source": [
    "res.x"
   ]
  },
  {
   "cell_type": "markdown",
   "metadata": {},
   "source": [
    "### Simulation with ReLu element"
   ]
  },
  {
   "cell_type": "code",
   "execution_count": 109,
   "metadata": {},
   "outputs": [],
   "source": [
    "R = 1/100\n",
    "X = 0\n",
    "v0 = 5\n",
    "\n",
    "# diode facing forward\n",
    "forward_mat = np.array([[X, R, 0, 0], \n",
    "                        [R, X, 1, R], \n",
    "                        [0, 0, X, R], \n",
    "                        [0, R, R, X]])\n",
    "\n",
    "# diode facing backward\n",
    "backward_mat = np.array([[X, R, 0, 0], \n",
    "                        [R, X, 0, R], \n",
    "                        [0, 1, X, R], \n",
    "                        [0, R, R, X]])"
   ]
  },
  {
   "cell_type": "code",
   "execution_count": 110,
   "metadata": {},
   "outputs": [],
   "source": [
    "x0_fwd = np.random.rand(4)\n",
    "obj_fwd = min_fun(forward_mat)\n",
    "\n",
    "res_fwd = minimize(obj_fwd, x0_fwd, bounds=((v0, v0), (None, None), (None, None), (0,0)))\n",
    "\n",
    "x0_rev = np.random.rand(4)\n",
    "obj_rev = min_fun(backward_mat)\n",
    "\n",
    "res_rev = minimize(obj_rev, x0_rev, bounds=((v0, v0), (None, None), (None, None), (0,0)))"
   ]
  },
  {
   "cell_type": "code",
   "execution_count": 111,
   "metadata": {},
   "outputs": [
    {
     "data": {
      "text/plain": [
       "array([5.        , 1.67218348, 1.65562715, 0.        ])"
      ]
     },
     "execution_count": 111,
     "metadata": {},
     "output_type": "execute_result"
    }
   ],
   "source": [
    "res_fwd.x"
   ]
  },
  {
   "cell_type": "code",
   "execution_count": 112,
   "metadata": {},
   "outputs": [
    {
     "data": {
      "text/plain": [
       "      fun: 0.16639072847693803\n",
       " hess_inv: None\n",
       "      jac: array([            nan,  8.32667274e-09, -1.02695630e-07,             nan])\n",
       "  message: 'CONVERGENCE: NORM_OF_PROJECTED_GRADIENT_<=_PGTOL'\n",
       "     nfev: 36\n",
       "      nit: 6\n",
       "     njev: 12\n",
       "   status: 0\n",
       "  success: True\n",
       "        x: array([5.        , 1.67218348, 1.65562715, 0.        ])"
      ]
     },
     "execution_count": 112,
     "metadata": {},
     "output_type": "execute_result"
    }
   ],
   "source": [
    "res_fwd"
   ]
  },
  {
   "cell_type": "code",
   "execution_count": 113,
   "metadata": {},
   "outputs": [
    {
     "data": {
      "text/plain": [
       "array([ 5.00000000e+00,  2.49999995e+00, -1.30423014e-07,  0.00000000e+00])"
      ]
     },
     "execution_count": 113,
     "metadata": {},
     "output_type": "execute_result"
    }
   ],
   "source": [
    "res_rev.x"
   ]
  },
  {
   "cell_type": "markdown",
   "metadata": {},
   "source": [
    "### Simple line example -- linear vs. nonlinear"
   ]
  },
  {
   "cell_type": "code",
   "execution_count": 114,
   "metadata": {},
   "outputs": [],
   "source": [
    "R = 100\n",
    "X = 1 # value of X is a placeholder -- doesn't matter\n",
    "v0 = 5\n",
    "\n",
    "lne_mat = np.array([[X, R, np.inf, np.inf], \n",
    "                    [R, X, R, np.inf], \n",
    "                    [np.inf, R, X, R], \n",
    "                    [np.inf, np.inf, R, X]])\n"
   ]
  },
  {
   "cell_type": "code",
   "execution_count": 115,
   "metadata": {},
   "outputs": [],
   "source": [
    "x0 = np.zeros(4)\n",
    "obj_lne = min_fun(res_mat)\n",
    "\n",
    "res_lne = minimize(obj_lne, x0, bounds=((v0, v0), (None, None), (None, None), (0,0)))"
   ]
  },
  {
   "cell_type": "code",
   "execution_count": 116,
   "metadata": {},
   "outputs": [
    {
     "data": {
      "text/plain": [
       "array([5.        , 2.47572822, 0.04854363, 0.        ])"
      ]
     },
     "execution_count": 116,
     "metadata": {},
     "output_type": "execute_result"
    }
   ],
   "source": [
    "res_lne.x"
   ]
  }
 ],
 "metadata": {
  "kernelspec": {
   "display_name": "Python 3.9.13 64-bit",
   "language": "python",
   "name": "python3"
  },
  "language_info": {
   "codemirror_mode": {
    "name": "ipython",
    "version": 3
   },
   "file_extension": ".py",
   "mimetype": "text/x-python",
   "name": "python",
   "nbconvert_exporter": "python",
   "pygments_lexer": "ipython3",
   "version": "3.9.13"
  },
  "orig_nbformat": 4,
  "vscode": {
   "interpreter": {
    "hash": "b0fa6594d8f4cbf19f97940f81e996739fb7646882a419484c72d19e05852a7e"
   }
  }
 },
 "nbformat": 4,
 "nbformat_minor": 2
}
