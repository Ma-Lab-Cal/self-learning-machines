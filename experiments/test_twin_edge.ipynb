{
 "cells": [
  {
   "cell_type": "code",
   "execution_count": 17,
   "metadata": {},
   "outputs": [],
   "source": [
    "%reload_ext autoreload\n",
    "%autoreload 2\n",
    "\n",
    "from helpers import *\n",
    "from spice_net import *\n",
    "\n",
    "import numpy as np\n",
    "import networkx as nx\n",
    "import tqdm\n",
    "import random\n",
    "import json\n",
    "import matplotlib.pyplot as plt\n",
    "\n",
    "import PySpice\n",
    "PySpice.Spice.Simulation.CircuitSimulator.DEFAULT_SIMULATOR = \"ngspice-shared\" \n",
    "import PySpice.Spice.NgSpice.Server\n",
    "PySpice.Spice.NgSpice.Server.SpiceServer.SPICE_COMMAND = 'ngspice'"
   ]
  },
  {
   "cell_type": "code",
   "execution_count": 18,
   "metadata": {},
   "outputs": [],
   "source": [
    "import PySpice.Spice.NgSpice.Shared\n",
    "\n",
    "instance = PySpice.Spice.NgSpice.Shared.NgSpiceShared.new_instance()"
   ]
  },
  {
   "cell_type": "code",
   "execution_count": 68,
   "metadata": {},
   "outputs": [],
   "source": [
    "R_LEARN = u_Ohm(1000)\n",
    "C_LEARN = u_uF(22)"
   ]
  },
  {
   "cell_type": "code",
   "execution_count": 69,
   "metadata": {},
   "outputs": [],
   "source": [
    "VIN = u_V(1)\n",
    "VCLAMP = u_V(0.2)"
   ]
  },
  {
   "cell_type": "code",
   "execution_count": 70,
   "metadata": {},
   "outputs": [
    {
     "data": {
      "text/plain": [
       "VoltageSource VCC1"
      ]
     },
     "execution_count": 70,
     "metadata": {},
     "output_type": "execute_result"
    }
   ],
   "source": [
    "# handmake a twin edge voltage divider\n",
    "cir = Circuit('twin_edge_divider')\n",
    "\n",
    "cir.subcircuit(Teacher(c_learn=C_LEARN))\n",
    "cir.subcircuit(TransistorEdgeTeacher())\n",
    "cir.model('nmos', 'nmos', level=1)\n",
    "cir.model('Ideal', 'nmos', level=1)\n",
    "cir.model(\"MYSW\", \"SW\", Ron=R_LEARN, Roff=1e12, Vt=0.5,)\n",
    "\n",
    "cir.X(\"EC1\", \"transistor_edge_teacher\", \"C1\", cir.gnd, \"VGS1\")\n",
    "# cir.X(\"EC1\", \"transistor_edge\", \"C1\", cir.gnd, vgs=\"{V(VGS1)}\")\n",
    "# cir.X(\"EC2\", \"transistor_edge\", \"C2\", \"C1\", \"{V(VGS2)}\")\n",
    "cir.X(\"EC2\", \"transistor_edge_teacher\", \"C2\", \"C1\", \"VGS2\")\n",
    "# cir.R(1, \"C2\", \"C1\", u_kOhm(10))\n",
    "cir.X(\"EF1\", \"transistor_edge_teacher\", \"F1\", cir.gnd, \"VGS1\")\n",
    "# cir.X(\"EF1\", \"transistor_edge\", \"F1\", cir.gnd, vgs=\"{V(VGS1)}\")\n",
    "# cir.X(\"EF2\", \"transistor_edge\", \"F2\", \"F1\", \"{V(VGS2)}\")\n",
    "cir.X(\"EF2\", \"transistor_edge_teacher\", \"F2\", \"F1\", \"VGS2\")\n",
    "# cir.R(2, \"F2\", \"F1\", u_kOhm(10))\n",
    "\n",
    "cir.X(\"T1\", \"teacher\", \"F1\", cir.gnd, \"C1\", cir.gnd, \"VGS1\", \"CLK\",)\n",
    "cir.X(\"T2\", \"teacher\", \"F2\", \"F1\", \"C2\", \"C1\", \"VGS2\", \"CLK\",)\n",
    "\n",
    "# cir.PulseVoltageSource(\"VCLK\", \"CLK\", cir.gnd, initial_value=0, pulsed_value=1, pulse_width=u_us(10), period=u_us(20))\n",
    "cir.PulseVoltageSource(\"VCLK\", \"CLK\", cir.gnd, initial_value=0, pulsed_value=1, pulse_width=u_ms(10), period=u_ms(20))\n",
    "\n",
    "# constant inputs\n",
    "cir.V(\"FI1\", \"F2\", cir.gnd, VIN)\n",
    "cir.V(\"CI1\", \"C2\", cir.gnd, VIN)\n",
    "\n",
    "# clamps\n",
    "cir.V(\"CC1\", \"C1\", cir.gnd, VCLAMP)"
   ]
  },
  {
   "cell_type": "code",
   "execution_count": 71,
   "metadata": {},
   "outputs": [],
   "source": [
    "simulator = cir.simulator(temperature=25, nominal_temperature=25)"
   ]
  },
  {
   "cell_type": "code",
   "execution_count": 72,
   "metadata": {},
   "outputs": [],
   "source": [
    "simulator.initial_condition(VGS1=1, VGS2=1)"
   ]
  },
  {
   "cell_type": "code",
   "execution_count": 73,
   "metadata": {},
   "outputs": [
    {
     "name": "stdout",
     "output_type": "stream",
     "text": [
      ".title twin_edge_divider\n",
      ".subckt teacher D_FREE S_FREE D_CLAMPED S_CLAMPED VGS CLK\n",
      "BUPDATE nudge 0 v=V(VGS)+((V(S_FREE)-V(D_FREE))**2-(V(S_CLAMPED)-V(D_CLAMPED))**2)\n",
      "S1 nudge VGS CLK 0 MYSW on\n",
      "C1 VGS 0 22uF\n",
      ".ends teacher\n",
      "\n",
      ".subckt transistor_edge_teacher t_D t_S VGS\n",
      "B1 t_G t_S v=V(VGS)\n",
      "R1 t_D t_S 1e+16\n",
      "M1 t_D t_G t_S t_S Ideal\n",
      ".ends transistor_edge_teacher\n",
      "XEC1 C1 0 VGS1 transistor_edge_teacher\n",
      "XEC2 C2 C1 VGS2 transistor_edge_teacher\n",
      "XEF1 F1 0 VGS1 transistor_edge_teacher\n",
      "XEF2 F2 F1 VGS2 transistor_edge_teacher\n",
      "XT1 F1 0 C1 0 VGS1 CLK teacher\n",
      "XT2 F2 F1 C2 C1 VGS2 CLK teacher\n",
      "VVCLK CLK 0 DC 0V PULSE(0V 1V 0s 0s 0s 10ms 20ms)\n",
      "VFI1 F2 0 1V\n",
      "VCI1 C2 0 1V\n",
      "VCC1 C1 0 0.2V\n",
      ".model nmos nmos (level=1)\n",
      ".model Ideal nmos (level=1)\n",
      ".model MYSW SW (Roff=1000000000000.0 Ron=1000Ohm Vt=0.5)\n",
      ".options TEMP = 25C\n",
      ".options TNOM = 25C\n",
      ".ic V(VGS1)=1 V(VGS2)=1\n",
      ".end\n",
      "\n"
     ]
    }
   ],
   "source": [
    "print(simulator)"
   ]
  },
  {
   "cell_type": "code",
   "execution_count": 78,
   "metadata": {},
   "outputs": [
    {
     "name": "stderr",
     "output_type": "stream",
     "text": [
      "Using SPARSE 1.3 as Direct Linear Solver\n"
     ]
    }
   ],
   "source": [
    "res = simulator.transient(step_time=u_ms(1), end_time=0.5)"
   ]
  },
  {
   "cell_type": "code",
   "execution_count": 79,
   "metadata": {},
   "outputs": [
    {
     "name": "stdout",
     "output_type": "stream",
     "text": [
      ".title twin_edge_divider\n",
      ".subckt teacher D_FREE S_FREE D_CLAMPED S_CLAMPED VGS CLK\n",
      "BUPDATE nudge 0 v=V(VGS)+((V(S_FREE)-V(D_FREE))**2-(V(S_CLAMPED)-V(D_CLAMPED))**2)\n",
      "S1 nudge VGS CLK 0 MYSW on\n",
      "C1 VGS 0 22uF\n",
      ".ends teacher\n",
      "\n",
      ".subckt transistor_edge_teacher t_D t_S VGS\n",
      "B1 t_G t_S v=V(VGS)\n",
      "R1 t_D t_S 1e+16\n",
      "M1 t_D t_G t_S t_S Ideal\n",
      ".ends transistor_edge_teacher\n",
      "XEC1 C1 0 VGS1 transistor_edge_teacher\n",
      "XEC2 C2 C1 VGS2 transistor_edge_teacher\n",
      "XEF1 F1 0 VGS1 transistor_edge_teacher\n",
      "XEF2 F2 F1 VGS2 transistor_edge_teacher\n",
      "XT1 F1 0 C1 0 VGS1 CLK teacher\n",
      "XT2 F2 F1 C2 C1 VGS2 CLK teacher\n",
      "VVCLK CLK 0 DC 0V PULSE(0V 1V 0s 0s 0s 10ms 20ms)\n",
      "VFI1 F2 0 1V\n",
      "VCI1 C2 0 1V\n",
      "VCC1 C1 0 0.2V\n",
      ".model nmos nmos (level=1)\n",
      ".model Ideal nmos (level=1)\n",
      ".model MYSW SW (Roff=1000000000000.0 Ron=1000Ohm Vt=0.5)\n",
      ".options TEMP = 25C\n",
      ".options TNOM = 25C\n",
      ".ic V(VGS1)=1 V(VGS2)=1\n",
      ".end\n",
      "\n"
     ]
    }
   ],
   "source": [
    "print(res.simulation)"
   ]
  },
  {
   "cell_type": "code",
   "execution_count": 80,
   "metadata": {},
   "outputs": [
    {
     "data": {
      "text/plain": [
       "dict_keys(['xt2.nudge', 'clk', 'xt1.nudge', 'f2', 'xef2.t_g', 'f1', 'xef1.t_g', 'c2', 'vgs2', 'xec2.t_g', 'c1', 'vgs1', 'xec1.t_g'])"
      ]
     },
     "execution_count": 80,
     "metadata": {},
     "output_type": "execute_result"
    }
   ],
   "source": [
    "res.nodes.keys()"
   ]
  },
  {
   "cell_type": "code",
   "execution_count": 87,
   "metadata": {},
   "outputs": [
    {
     "data": {
      "text/plain": [
       "<matplotlib.legend.Legend at 0x142f6bd00>"
      ]
     },
     "execution_count": 87,
     "metadata": {},
     "output_type": "execute_result"
    },
    {
     "data": {
      "image/png": "[encoded data removed]",
      "text/plain": [
       "<Figure size 640x480 with 1 Axes>"
      ]
     },
     "metadata": {},
     "output_type": "display_data"
    }
   ],
   "source": [
    "MAX_STEP = 200\n",
    "plt.plot(res.nodes['clk'][:MAX_STEP])\n",
    "plt.plot(res.nodes['f1'][:MAX_STEP], label='f1')\n",
    "plt.plot(res.nodes['c1'][:MAX_STEP], label='c1')\n",
    "# plt.plot(res.nodes['vgs1'][:MAX_STEP], label='vgs1')\n",
    "# plt.plot(res.nodes['xt1.nudge'][:MAX_STEP], label='nudge')\n",
    "# plt.plot(res.nodes['f1']**2 - res.nodes['c1']**2, label='CL')\n",
    "# plt.plot(res.nodes['vgs2'][:MAX_STEP], label='vgs2')\n",
    "plt.legend()"
   ]
  },
  {
   "cell_type": "code",
   "execution_count": 127,
   "metadata": {},
   "outputs": [],
   "source": [
    "cir2 = Circuit(\"\"\"hh\n",
    "M1 GFREE N001 0 0 NMOS\n",
    "M2 GCLAMP N002 0 0 NMOS\n",
    "VCLOCK CLOCK 0 PULSE(0 1 0 1e-6 1e-6 {th} {2*th})\n",
    "Vin N003 0 1\n",
    "S1 VNUDGE VGS CLOCK 0 MYSW\n",
    "C1 0 VGS {clearn}\n",
    "BV1 VNUDGE 0 V=V(VGS)+((V(0)-V(GFREE))**2-(V(0)-V(GCLAMP))**2)\n",
    "B1 N001 0 V=V(VGS)\n",
    "B2 N002 0 V=V(VGS)\n",
    "VCLAMP GCLAMP 0 .5\n",
    "R4 GFREE N003 {R}\n",
    "R3 GCLAMP N003 {R}\n",
    ".model NMOS NMOS\n",
    ".model PMOS PMOS\n",
    ".model MYSW SW(Ron={rlearn} Roff=1e12 Vt=0.5)\n",
    "* .tran 1ms 500ms\n",
    ".ic  V(VGS)=1\n",
    ".model NMOS NMOS\n",
    ".param R=10k\n",
    ".param th=18ms\n",
    ".param clearn=22uf\n",
    ".param rlearn=100\n",
    ".end\"\"\")"
   ]
  },
  {
   "cell_type": "code",
   "execution_count": 128,
   "metadata": {},
   "outputs": [
    {
     "name": "stdout",
     "output_type": "stream",
     "text": [
      ".title hh\n",
      "M1 GFREE N001 0 0 NMOS\n",
      "M2 GCLAMP N002 0 0 NMOS\n",
      "VCLOCK CLOCK 0 PULSE(0 1 0 1e-6 1e-6 {th} {2*th})\n",
      "Vin N003 0 1\n",
      "S1 VNUDGE VGS CLOCK 0 MYSW\n",
      "C1 0 VGS {clearn}\n",
      "BV1 VNUDGE 0 V=V(VGS)+((V(0)-V(GFREE))**2-(V(0)-V(GCLAMP))**2)\n",
      "B1 N001 0 V=V(VGS)\n",
      "B2 N002 0 V=V(VGS)\n",
      "VCLAMP GCLAMP 0 .5\n",
      "R4 GFREE N003 {R}\n",
      "R3 GCLAMP N003 {R}\n",
      ".model NMOS NMOS\n",
      ".model PMOS PMOS\n",
      ".model MYSW SW(Ron={rlearn} Roff=1e12 Vt=0.5)\n",
      "* .tran 1ms 500ms\n",
      ".ic  V(VGS)=1\n",
      ".model NMOS NMOS\n",
      ".param R=10k\n",
      ".param th=18ms\n",
      ".param clearn=22uf\n",
      ".param rlearn=100\n",
      ".end\n",
      "\n",
      "\n"
     ]
    }
   ],
   "source": [
    "print(cir2)"
   ]
  },
  {
   "cell_type": "code",
   "execution_count": 129,
   "metadata": {},
   "outputs": [],
   "source": [
    "sim2 = cir2.simulator()"
   ]
  },
  {
   "cell_type": "code",
   "execution_count": 130,
   "metadata": {},
   "outputs": [
    {
     "name": "stderr",
     "output_type": "stream",
     "text": [
      "Warning: No job (tran, ac, op etc.) defined:\n",
      "run simulation not started\n"
     ]
    },
    {
     "ename": "NameError",
     "evalue": "Simulation failed",
     "output_type": "error",
     "traceback": [
      "\u001b[0;31m---------------------------------------------------------------------------\u001b[0m",
      "\u001b[0;31mNameError\u001b[0m                                 Traceback (most recent call last)",
      "Cell \u001b[0;32mIn[130], line 1\u001b[0m\n\u001b[0;32m----> 1\u001b[0m \u001b[43msim2\u001b[49m\u001b[38;5;241;43m.\u001b[39;49m\u001b[43mtransient\u001b[49m\u001b[43m(\u001b[49m\u001b[43mstep_time\u001b[49m\u001b[38;5;241;43m=\u001b[39;49m\u001b[43mu_ms\u001b[49m\u001b[43m(\u001b[49m\u001b[38;5;241;43m1\u001b[39;49m\u001b[43m)\u001b[49m\u001b[43m,\u001b[49m\u001b[43m \u001b[49m\u001b[43mend_time\u001b[49m\u001b[38;5;241;43m=\u001b[39;49m\u001b[38;5;241;43m0.1\u001b[39;49m\u001b[43m)\u001b[49m\n",
      "File \u001b[0;32m~/Projects/PySpice/PySpice/Spice/Simulation.py:1214\u001b[0m, in \u001b[0;36mCircuitSimulator.transient\u001b[0;34m(self, *args, **kwargs)\u001b[0m\n\u001b[1;32m   1213\u001b[0m \u001b[38;5;28;01mdef\u001b[39;00m \u001b[38;5;21mtransient\u001b[39m(\u001b[38;5;28mself\u001b[39m, \u001b[38;5;241m*\u001b[39margs, \u001b[38;5;241m*\u001b[39m\u001b[38;5;241m*\u001b[39mkwargs):\n\u001b[0;32m-> 1214\u001b[0m     \u001b[38;5;28;01mreturn\u001b[39;00m \u001b[38;5;28;43mself\u001b[39;49m\u001b[38;5;241;43m.\u001b[39;49m\u001b[43m_run\u001b[49m\u001b[43m(\u001b[49m\u001b[38;5;124;43m'\u001b[39;49m\u001b[38;5;124;43mtransient\u001b[39;49m\u001b[38;5;124;43m'\u001b[39;49m\u001b[43m,\u001b[49m\u001b[43m \u001b[49m\u001b[38;5;241;43m*\u001b[39;49m\u001b[43margs\u001b[49m\u001b[43m,\u001b[49m\u001b[43m \u001b[49m\u001b[38;5;241;43m*\u001b[39;49m\u001b[38;5;241;43m*\u001b[39;49m\u001b[43mkwargs\u001b[49m\u001b[43m)\u001b[49m\n",
      "File \u001b[0;32m~/Projects/PySpice/PySpice/Spice/NgSpice/Simulation.py:125\u001b[0m, in \u001b[0;36mNgSpiceSharedCircuitSimulator._run\u001b[0;34m(self, analysis_method, *args, **kwargs)\u001b[0m\n\u001b[1;32m    123\u001b[0m plot_name \u001b[38;5;241m=\u001b[39m \u001b[38;5;28mself\u001b[39m\u001b[38;5;241m.\u001b[39m_ngspice_shared\u001b[38;5;241m.\u001b[39mlast_plot\n\u001b[1;32m    124\u001b[0m \u001b[38;5;28;01mif\u001b[39;00m plot_name \u001b[38;5;241m==\u001b[39m \u001b[38;5;124m'\u001b[39m\u001b[38;5;124mconst\u001b[39m\u001b[38;5;124m'\u001b[39m:\n\u001b[0;32m--> 125\u001b[0m     \u001b[38;5;28;01mraise\u001b[39;00m \u001b[38;5;167;01mNameError\u001b[39;00m(\u001b[38;5;124m'\u001b[39m\u001b[38;5;124mSimulation failed\u001b[39m\u001b[38;5;124m'\u001b[39m)\n\u001b[1;32m    127\u001b[0m \u001b[38;5;28;01mreturn\u001b[39;00m \u001b[38;5;28mself\u001b[39m\u001b[38;5;241m.\u001b[39m_ngspice_shared\u001b[38;5;241m.\u001b[39mplot(\u001b[38;5;28mself\u001b[39m, plot_name)\u001b[38;5;241m.\u001b[39mto_analysis()\n",
      "\u001b[0;31mNameError\u001b[0m: Simulation failed"
     ]
    }
   ],
   "source": [
    "sim2.transient(step_time=u_ms(1), end_time=0.1)"
   ]
  },
  {
   "cell_type": "code",
   "execution_count": 120,
   "metadata": {},
   "outputs": [
    {
     "ename": "AttributeError",
     "evalue": "'NoneType' object has no attribute 'nodes'",
     "output_type": "error",
     "traceback": [
      "\u001b[0;31m---------------------------------------------------------------------------\u001b[0m",
      "\u001b[0;31mAttributeError\u001b[0m                            Traceback (most recent call last)",
      "Cell \u001b[0;32mIn[120], line 2\u001b[0m\n\u001b[1;32m      1\u001b[0m MAX_STEP \u001b[38;5;241m=\u001b[39m \u001b[38;5;241m1000\u001b[39m\n\u001b[0;32m----> 2\u001b[0m plt\u001b[38;5;241m.\u001b[39mplot(\u001b[43mres2\u001b[49m\u001b[38;5;241;43m.\u001b[39;49m\u001b[43mnodes\u001b[49m[\u001b[38;5;124m'\u001b[39m\u001b[38;5;124mclk\u001b[39m\u001b[38;5;124m'\u001b[39m][:MAX_STEP])\n\u001b[1;32m      3\u001b[0m plt\u001b[38;5;241m.\u001b[39mplot(res2\u001b[38;5;241m.\u001b[39mnodes[\u001b[38;5;124m'\u001b[39m\u001b[38;5;124mf1\u001b[39m\u001b[38;5;124m'\u001b[39m][:MAX_STEP], label\u001b[38;5;241m=\u001b[39m\u001b[38;5;124m'\u001b[39m\u001b[38;5;124mf1\u001b[39m\u001b[38;5;124m'\u001b[39m)\n\u001b[1;32m      4\u001b[0m plt\u001b[38;5;241m.\u001b[39mplot(res2\u001b[38;5;241m.\u001b[39mnodes[\u001b[38;5;124m'\u001b[39m\u001b[38;5;124mc1\u001b[39m\u001b[38;5;124m'\u001b[39m][:MAX_STEP], label\u001b[38;5;241m=\u001b[39m\u001b[38;5;124m'\u001b[39m\u001b[38;5;124mc1\u001b[39m\u001b[38;5;124m'\u001b[39m)\n",
      "\u001b[0;31mAttributeError\u001b[0m: 'NoneType' object has no attribute 'nodes'"
     ]
    }
   ],
   "source": [
    "MAX_STEP = 1000\n",
    "plt.plot(res2.nodes['clk'][:MAX_STEP])\n",
    "plt.plot(res2.nodes['f1'][:MAX_STEP], label='f1')\n",
    "plt.plot(res2.nodes['c1'][:MAX_STEP], label='c1')\n",
    "plt.plot(res2.nodes['vgs1'][:MAX_STEP], label='vgs1')\n",
    "# plt.plot(res.nodes['vgs2'][:MAX_STEP], label='vgs2')\n",
    "plt.legend()"
   ]
  },
  {
   "cell_type": "code",
   "execution_count": null,
   "metadata": {},
   "outputs": [],
   "source": []
  }
 ],
 "metadata": {
  "kernelspec": {
   "display_name": "circuit-sim",
   "language": "python",
   "name": "python3"
  },
  "language_info": {
   "codemirror_mode": {
    "name": "ipython",
    "version": 3
   },
   "file_extension": ".py",
   "mimetype": "text/x-python",
   "name": "python",
   "nbconvert_exporter": "python",
   "pygments_lexer": "ipython3",
   "version": "3.9.18"
  }
 },
 "nbformat": 4,
 "nbformat_minor": 2
}
